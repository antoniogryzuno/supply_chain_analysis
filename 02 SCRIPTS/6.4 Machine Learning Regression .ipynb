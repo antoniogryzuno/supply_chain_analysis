{
 "cells": [
  {
   "cell_type": "markdown",
   "id": "ec7f843d-77a9-4125-93ef-811a2fb62cba",
   "metadata": {},
   "source": [
    "# 6.4 MACHINE LEARNING"
   ]
  },
  {
   "cell_type": "markdown",
   "id": "9a4bfc0f-d909-4fb2-9630-1f0f81eb0e52",
   "metadata": {
    "jp-MarkdownHeadingCollapsed": true
   },
   "source": [
    "### This script contains the following:\n",
    "#### 1. IMPORTING DATA AND DATA LIBRARIES\n",
    "#### 2. DATA PREPARATION FOR REGRESSION ANALYSIS\n",
    "#### 3. REGRESSION ANALYSIS "
   ]
  },
  {
   "cell_type": "markdown",
   "id": "6721ab8f-7bae-401b-86eb-76a34fb43906",
   "metadata": {},
   "source": [
    "### 1.IMPORTING DATA AND DATA LIBRARIES"
   ]
  },
  {
   "cell_type": "code",
   "execution_count": 1,
   "id": "d421bfc5-96a5-4cf9-a127-c2a1e19ca546",
   "metadata": {},
   "outputs": [],
   "source": [
    "import pandas as pd\n",
    "import numpy as np\n",
    "import seaborn as sns\n",
    "import matplotlib\n",
    "import matplotlib.pyplot as plt\n",
    "import os\n",
    "import sklearn\n",
    "from sklearn.model_selection import train_test_split \n",
    "from sklearn.linear_model import LinearRegression\n",
    "from sklearn.metrics import mean_squared_error, r2_score"
   ]
  },
  {
   "cell_type": "code",
   "execution_count": 2,
   "id": "27d8f577-d52e-44ed-ba92-67ad8183be5d",
   "metadata": {},
   "outputs": [],
   "source": [
    "%matplotlib inline"
   ]
  },
  {
   "cell_type": "markdown",
   "id": "bf59ab5e-5639-441d-820a-7b6144be22e5",
   "metadata": {},
   "source": [
    "### DEFINING THE PATH "
   ]
  },
  {
   "cell_type": "code",
   "execution_count": 3,
   "id": "dacabd9d-bf86-47ac-8fc4-71c7f8841783",
   "metadata": {},
   "outputs": [],
   "source": [
    "path = r'C:\\Users\\gryzu\\Supply Chain Management'"
   ]
  },
  {
   "cell_type": "code",
   "execution_count": 4,
   "id": "e18dc5df-9d70-4906-83a0-f2ac22cd1424",
   "metadata": {},
   "outputs": [
    {
     "data": {
      "text/plain": [
       "'C:\\\\Users\\\\gryzu\\\\Supply Chain Management'"
      ]
     },
     "execution_count": 4,
     "metadata": {},
     "output_type": "execute_result"
    }
   ],
   "source": [
    "path"
   ]
  },
  {
   "cell_type": "markdown",
   "id": "acf1d6d4-bed0-45f1-a9db-5637f72f0c56",
   "metadata": {},
   "source": [
    "### IMPORTING DATASET"
   ]
  },
  {
   "cell_type": "code",
   "execution_count": 5,
   "id": "2b1be3fd-6aa1-4e94-b0e0-ddb24b3910ec",
   "metadata": {},
   "outputs": [],
   "source": [
    "path_to_pickle = os.path.join(path, '1 DATA', 'FORMATTED', 'ASIASCM_UPDATED.pkl')"
   ]
  },
  {
   "cell_type": "code",
   "execution_count": 6,
   "id": "0cba702f-55d3-471e-9eeb-423960994057",
   "metadata": {},
   "outputs": [],
   "source": [
    "asia = pd.read_pickle(path_to_pickle)"
   ]
  },
  {
   "cell_type": "code",
   "execution_count": 9,
   "id": "3e5d0197-ee4c-4b7c-bab6-444ef9a75f17",
   "metadata": {},
   "outputs": [
    {
     "data": {
      "text/html": [
       "<div>\n",
       "<style scoped>\n",
       "    .dataframe tbody tr th:only-of-type {\n",
       "        vertical-align: middle;\n",
       "    }\n",
       "\n",
       "    .dataframe tbody tr th {\n",
       "        vertical-align: top;\n",
       "    }\n",
       "\n",
       "    .dataframe thead th {\n",
       "        text-align: right;\n",
       "    }\n",
       "</style>\n",
       "<table border=\"1\" class=\"dataframe\">\n",
       "  <thead>\n",
       "    <tr style=\"text-align: right;\">\n",
       "      <th></th>\n",
       "      <th>Type</th>\n",
       "      <th>Days for shipment (real)</th>\n",
       "      <th>Days for shipment (scheduled)</th>\n",
       "      <th>Benefit per order</th>\n",
       "      <th>Sales per customer</th>\n",
       "      <th>Delivery Status</th>\n",
       "      <th>Late Delivery Risk</th>\n",
       "      <th>Category Id</th>\n",
       "      <th>Category Name</th>\n",
       "      <th>Department Id</th>\n",
       "      <th>...</th>\n",
       "      <th>Profit Per Order</th>\n",
       "      <th>Order Region</th>\n",
       "      <th>Order State</th>\n",
       "      <th>Order Status</th>\n",
       "      <th>Product Category Id</th>\n",
       "      <th>Product Name</th>\n",
       "      <th>Product Price</th>\n",
       "      <th>Shipping Date</th>\n",
       "      <th>Shipping Mode</th>\n",
       "      <th>Price Category</th>\n",
       "    </tr>\n",
       "  </thead>\n",
       "  <tbody>\n",
       "    <tr>\n",
       "      <th>0</th>\n",
       "      <td>DEBIT</td>\n",
       "      <td>3</td>\n",
       "      <td>4</td>\n",
       "      <td>91.250000</td>\n",
       "      <td>314.640015</td>\n",
       "      <td>Advance shipping</td>\n",
       "      <td>0</td>\n",
       "      <td>73</td>\n",
       "      <td>Sporting Goods</td>\n",
       "      <td>2</td>\n",
       "      <td>...</td>\n",
       "      <td>91.250000</td>\n",
       "      <td>Southeast Asia</td>\n",
       "      <td>Java Occidental</td>\n",
       "      <td>COMPLETE</td>\n",
       "      <td>73</td>\n",
       "      <td>Smart watch</td>\n",
       "      <td>327.75</td>\n",
       "      <td>2018-03-02 22:56:00</td>\n",
       "      <td>Standard Class</td>\n",
       "      <td>Middle price</td>\n",
       "    </tr>\n",
       "    <tr>\n",
       "      <th>1</th>\n",
       "      <td>TRANSFER</td>\n",
       "      <td>5</td>\n",
       "      <td>4</td>\n",
       "      <td>-249.089996</td>\n",
       "      <td>311.359985</td>\n",
       "      <td>Late delivery</td>\n",
       "      <td>1</td>\n",
       "      <td>73</td>\n",
       "      <td>Sporting Goods</td>\n",
       "      <td>2</td>\n",
       "      <td>...</td>\n",
       "      <td>-249.089996</td>\n",
       "      <td>South Asia</td>\n",
       "      <td>Rajastán</td>\n",
       "      <td>PENDING</td>\n",
       "      <td>73</td>\n",
       "      <td>Smart watch</td>\n",
       "      <td>327.75</td>\n",
       "      <td>2018-01-18 12:27:00</td>\n",
       "      <td>Standard Class</td>\n",
       "      <td>Middle price</td>\n",
       "    </tr>\n",
       "    <tr>\n",
       "      <th>2</th>\n",
       "      <td>CASH</td>\n",
       "      <td>4</td>\n",
       "      <td>4</td>\n",
       "      <td>-247.779999</td>\n",
       "      <td>309.720001</td>\n",
       "      <td>Shipping on time</td>\n",
       "      <td>0</td>\n",
       "      <td>73</td>\n",
       "      <td>Sporting Goods</td>\n",
       "      <td>2</td>\n",
       "      <td>...</td>\n",
       "      <td>-247.779999</td>\n",
       "      <td>South Asia</td>\n",
       "      <td>Rajastán</td>\n",
       "      <td>CLOSED</td>\n",
       "      <td>73</td>\n",
       "      <td>Smart watch</td>\n",
       "      <td>327.75</td>\n",
       "      <td>2018-01-17 12:06:00</td>\n",
       "      <td>Standard Class</td>\n",
       "      <td>Middle price</td>\n",
       "    </tr>\n",
       "    <tr>\n",
       "      <th>3</th>\n",
       "      <td>DEBIT</td>\n",
       "      <td>2</td>\n",
       "      <td>1</td>\n",
       "      <td>95.180000</td>\n",
       "      <td>288.420013</td>\n",
       "      <td>Late delivery</td>\n",
       "      <td>1</td>\n",
       "      <td>73</td>\n",
       "      <td>Sporting Goods</td>\n",
       "      <td>2</td>\n",
       "      <td>...</td>\n",
       "      <td>95.180000</td>\n",
       "      <td>Eastern Asia</td>\n",
       "      <td>Guangdong</td>\n",
       "      <td>COMPLETE</td>\n",
       "      <td>73</td>\n",
       "      <td>Smart watch</td>\n",
       "      <td>327.75</td>\n",
       "      <td>2018-01-15 10:42:00</td>\n",
       "      <td>First Class</td>\n",
       "      <td>Middle price</td>\n",
       "    </tr>\n",
       "    <tr>\n",
       "      <th>4</th>\n",
       "      <td>TRANSFER</td>\n",
       "      <td>2</td>\n",
       "      <td>1</td>\n",
       "      <td>68.430000</td>\n",
       "      <td>285.140015</td>\n",
       "      <td>Late delivery</td>\n",
       "      <td>1</td>\n",
       "      <td>73</td>\n",
       "      <td>Sporting Goods</td>\n",
       "      <td>2</td>\n",
       "      <td>...</td>\n",
       "      <td>68.430000</td>\n",
       "      <td>Eastern Asia</td>\n",
       "      <td>Guangdong</td>\n",
       "      <td>PROCESSING</td>\n",
       "      <td>73</td>\n",
       "      <td>Smart watch</td>\n",
       "      <td>327.75</td>\n",
       "      <td>2018-01-15 10:21:00</td>\n",
       "      <td>First Class</td>\n",
       "      <td>Middle price</td>\n",
       "    </tr>\n",
       "  </tbody>\n",
       "</table>\n",
       "<p>5 rows × 29 columns</p>\n",
       "</div>"
      ],
      "text/plain": [
       "       Type  Days for shipment (real)  Days for shipment (scheduled)  \\\n",
       "0     DEBIT                         3                              4   \n",
       "1  TRANSFER                         5                              4   \n",
       "2      CASH                         4                              4   \n",
       "3     DEBIT                         2                              1   \n",
       "4  TRANSFER                         2                              1   \n",
       "\n",
       "   Benefit per order  Sales per customer   Delivery Status  \\\n",
       "0          91.250000          314.640015  Advance shipping   \n",
       "1        -249.089996          311.359985     Late delivery   \n",
       "2        -247.779999          309.720001  Shipping on time   \n",
       "3          95.180000          288.420013     Late delivery   \n",
       "4          68.430000          285.140015     Late delivery   \n",
       "\n",
       "   Late Delivery Risk  Category Id   Category Name  Department Id  ...  \\\n",
       "0                   0           73  Sporting Goods              2  ...   \n",
       "1                   1           73  Sporting Goods              2  ...   \n",
       "2                   0           73  Sporting Goods              2  ...   \n",
       "3                   1           73  Sporting Goods              2  ...   \n",
       "4                   1           73  Sporting Goods              2  ...   \n",
       "\n",
       "  Profit Per Order    Order Region      Order State Order Status  \\\n",
       "0        91.250000  Southeast Asia  Java Occidental     COMPLETE   \n",
       "1      -249.089996      South Asia         Rajastán      PENDING   \n",
       "2      -247.779999      South Asia         Rajastán       CLOSED   \n",
       "3        95.180000    Eastern Asia        Guangdong     COMPLETE   \n",
       "4        68.430000    Eastern Asia        Guangdong   PROCESSING   \n",
       "\n",
       "  Product Category Id  Product Name  Product Price       Shipping Date  \\\n",
       "0                  73  Smart watch          327.75 2018-03-02 22:56:00   \n",
       "1                  73  Smart watch          327.75 2018-01-18 12:27:00   \n",
       "2                  73  Smart watch          327.75 2018-01-17 12:06:00   \n",
       "3                  73  Smart watch          327.75 2018-01-15 10:42:00   \n",
       "4                  73  Smart watch          327.75 2018-01-15 10:21:00   \n",
       "\n",
       "    Shipping Mode  Price Category  \n",
       "0  Standard Class    Middle price  \n",
       "1  Standard Class    Middle price  \n",
       "2  Standard Class    Middle price  \n",
       "3     First Class    Middle price  \n",
       "4     First Class    Middle price  \n",
       "\n",
       "[5 rows x 29 columns]"
      ]
     },
     "execution_count": 9,
     "metadata": {},
     "output_type": "execute_result"
    }
   ],
   "source": [
    "# Checking the dataset \n",
    "asia.head()"
   ]
  },
  {
   "cell_type": "markdown",
   "id": "5eebc5f9-9e22-402a-bfc7-dc854c817bb0",
   "metadata": {},
   "source": [
    "The cleaning process of data has been done in the task 6.1 and additinally checked in 6.2-6.3 "
   ]
  },
  {
   "cell_type": "code",
   "execution_count": 12,
   "id": "26ada8ef-b7eb-48bb-8db7-41f084421e57",
   "metadata": {},
   "outputs": [
    {
     "data": {
      "text/plain": [
       "Index(['Type', 'Days for shipment (real)', 'Days for shipment (scheduled)',\n",
       "       'Benefit per order', 'Sales per customer', 'Delivery Status',\n",
       "       'Late Delivery Risk', 'Category Id', 'Category Name', 'Department Id',\n",
       "       'Department Name', 'Market', 'Order City', 'Order Country',\n",
       "       'Order Date', 'Item Profit Ratio', 'Item Quantity', 'Sales',\n",
       "       'Items Total', 'Profit Per Order', 'Order Region', 'Order State',\n",
       "       'Order Status', 'Product Category Id', 'Product Name', 'Product Price',\n",
       "       'Shipping Date', 'Shipping Mode', 'Price Category'],\n",
       "      dtype='object')"
      ]
     },
     "execution_count": 12,
     "metadata": {},
     "output_type": "execute_result"
    }
   ],
   "source": [
    "# Checking all columns\n",
    "asia.columns"
   ]
  },
  {
   "cell_type": "markdown",
   "id": "c8624dd4-cca2-4bd6-8897-7228084550b9",
   "metadata": {},
   "source": [
    "### 2.DATA PREPARATION FOR REGRESSION ANALYSIS"
   ]
  },
  {
   "cell_type": "code",
   "execution_count": 24,
   "id": "b3cc5d96-f2b0-4bf0-8a66-e0dd10767a66",
   "metadata": {},
   "outputs": [
    {
     "data": {
      "image/png": "[encoded data removed]",
      "text/plain": [
       "<Figure size 640x480 with 1 Axes>"
      ]
     },
     "metadata": {},
     "output_type": "display_data"
    }
   ],
   "source": [
    "# Creating a scatterplot to see the relationship between the total items sold and price\n",
    "\n",
    "asia.plot(x = 'Items Total', y='Product Price',style='o') \n",
    "plt.title('Items Total vs Product Price')  \n",
    "plt.xlabel('Items Total')  \n",
    "plt.ylabel('Product Price')  \n",
    "plt.show()"
   ]
  },
  {
   "cell_type": "markdown",
   "id": "5df15785-65f9-4793-8706-f9ad24b3bbdc",
   "metadata": {},
   "source": [
    "Here we can see the that Items Total (the number of sold units) is considered a dependent variable. Whereas Product Price is independant variable. "
   ]
  },
  {
   "cell_type": "code",
   "execution_count": 26,
   "id": "bd0203e6-a2fc-4fe2-b7b7-d6c4ba9c92d3",
   "metadata": {},
   "outputs": [],
   "source": [
    "# Reshaping the variables into NumPy arrays and putting them into separate objects.\n",
    "X = asia['Items Total'].values.reshape(-1,1)\n",
    "Y = asia['Product Price'].values.reshape(-1,1)"
   ]
  },
  {
   "cell_type": "code",
   "execution_count": 27,
   "id": "9423725b-ee8a-4a96-93b8-8e331585ed32",
   "metadata": {},
   "outputs": [
    {
     "data": {
      "text/plain": [
       "array([[314.6400146],\n",
       "       [311.3599854],\n",
       "       [309.7200012],\n",
       "       ...,\n",
       "       [399.980011 ],\n",
       "       [395.980011 ],\n",
       "       [383.980011 ]])"
      ]
     },
     "execution_count": 27,
     "metadata": {},
     "output_type": "execute_result"
    }
   ],
   "source": [
    "X"
   ]
  },
  {
   "cell_type": "code",
   "execution_count": 28,
   "id": "346419f8-c4fc-40dc-8f5b-62622ad4d01d",
   "metadata": {},
   "outputs": [
    {
     "data": {
      "text/plain": [
       "array([[327.75    ],\n",
       "       [327.75    ],\n",
       "       [327.75    ],\n",
       "       ...,\n",
       "       [399.980011],\n",
       "       [399.980011],\n",
       "       [399.980011]])"
      ]
     },
     "execution_count": 28,
     "metadata": {},
     "output_type": "execute_result"
    }
   ],
   "source": [
    "Y"
   ]
  },
  {
   "cell_type": "code",
   "execution_count": 30,
   "id": "6ce512e8-5c02-4657-a9b8-720bc0d25922",
   "metadata": {},
   "outputs": [],
   "source": [
    "# Splitting data into a training set and a test set.\n",
    "\n",
    "X_train, X_test, Y_train, Y_test = train_test_split(X, Y, test_size=0.3, random_state=0)"
   ]
  },
  {
   "cell_type": "markdown",
   "id": "3397c72d-2a03-4806-8ded-5d41001a4820",
   "metadata": {},
   "source": [
    "The hypothesis sounds: Does sales prices influence the customer behavior in a way, that high price decreases the total items sold?"
   ]
  },
  {
   "cell_type": "markdown",
   "id": "6091434a-026a-4b24-8b88-aef9c117c580",
   "metadata": {},
   "source": [
    "### 3.REGRESSION ANALYSIS"
   ]
  },
  {
   "cell_type": "code",
   "execution_count": 31,
   "id": "a204eff5-4d4a-45c9-b400-579ff5aa727f",
   "metadata": {},
   "outputs": [],
   "source": [
    "# Create a regression object.\n",
    "\n",
    "regression = LinearRegression()"
   ]
  },
  {
   "cell_type": "code",
   "execution_count": 32,
   "id": "b0491677-6a60-4f94-824e-a0d3c0443a38",
   "metadata": {},
   "outputs": [
    {
     "data": {
      "text/html": [
       "<style>#sk-container-id-1 {color: black;background-color: white;}#sk-container-id-1 pre{padding: 0;}#sk-container-id-1 div.sk-toggleable {background-color: white;}#sk-container-id-1 label.sk-toggleable__label {cursor: pointer;display: block;width: 100%;margin-bottom: 0;padding: 0.3em;box-sizing: border-box;text-align: center;}#sk-container-id-1 label.sk-toggleable__label-arrow:before {content: \"▸\";float: left;margin-right: 0.25em;color: #696969;}#sk-container-id-1 label.sk-toggleable__label-arrow:hover:before {color: black;}#sk-container-id-1 div.sk-estimator:hover label.sk-toggleable__label-arrow:before {color: black;}#sk-container-id-1 div.sk-toggleable__content {max-height: 0;max-width: 0;overflow: hidden;text-align: left;background-color: #f0f8ff;}#sk-container-id-1 div.sk-toggleable__content pre {margin: 0.2em;color: black;border-radius: 0.25em;background-color: #f0f8ff;}#sk-container-id-1 input.sk-toggleable__control:checked~div.sk-toggleable__content {max-height: 200px;max-width: 100%;overflow: auto;}#sk-container-id-1 input.sk-toggleable__control:checked~label.sk-toggleable__label-arrow:before {content: \"▾\";}#sk-container-id-1 div.sk-estimator input.sk-toggleable__control:checked~label.sk-toggleable__label {background-color: #d4ebff;}#sk-container-id-1 div.sk-label input.sk-toggleable__control:checked~label.sk-toggleable__label {background-color: #d4ebff;}#sk-container-id-1 input.sk-hidden--visually {border: 0;clip: rect(1px 1px 1px 1px);clip: rect(1px, 1px, 1px, 1px);height: 1px;margin: -1px;overflow: hidden;padding: 0;position: absolute;width: 1px;}#sk-container-id-1 div.sk-estimator {font-family: monospace;background-color: #f0f8ff;border: 1px dotted black;border-radius: 0.25em;box-sizing: border-box;margin-bottom: 0.5em;}#sk-container-id-1 div.sk-estimator:hover {background-color: #d4ebff;}#sk-container-id-1 div.sk-parallel-item::after {content: \"\";width: 100%;border-bottom: 1px solid gray;flex-grow: 1;}#sk-container-id-1 div.sk-label:hover label.sk-toggleable__label {background-color: #d4ebff;}#sk-container-id-1 div.sk-serial::before {content: \"\";position: absolute;border-left: 1px solid gray;box-sizing: border-box;top: 0;bottom: 0;left: 50%;z-index: 0;}#sk-container-id-1 div.sk-serial {display: flex;flex-direction: column;align-items: center;background-color: white;padding-right: 0.2em;padding-left: 0.2em;position: relative;}#sk-container-id-1 div.sk-item {position: relative;z-index: 1;}#sk-container-id-1 div.sk-parallel {display: flex;align-items: stretch;justify-content: center;background-color: white;position: relative;}#sk-container-id-1 div.sk-item::before, #sk-container-id-1 div.sk-parallel-item::before {content: \"\";position: absolute;border-left: 1px solid gray;box-sizing: border-box;top: 0;bottom: 0;left: 50%;z-index: -1;}#sk-container-id-1 div.sk-parallel-item {display: flex;flex-direction: column;z-index: 1;position: relative;background-color: white;}#sk-container-id-1 div.sk-parallel-item:first-child::after {align-self: flex-end;width: 50%;}#sk-container-id-1 div.sk-parallel-item:last-child::after {align-self: flex-start;width: 50%;}#sk-container-id-1 div.sk-parallel-item:only-child::after {width: 0;}#sk-container-id-1 div.sk-dashed-wrapped {border: 1px dashed gray;margin: 0 0.4em 0.5em 0.4em;box-sizing: border-box;padding-bottom: 0.4em;background-color: white;}#sk-container-id-1 div.sk-label label {font-family: monospace;font-weight: bold;display: inline-block;line-height: 1.2em;}#sk-container-id-1 div.sk-label-container {text-align: center;}#sk-container-id-1 div.sk-container {/* jupyter's `normalize.less` sets `[hidden] { display: none; }` but bootstrap.min.css set `[hidden] { display: none !important; }` so we also need the `!important` here to be able to override the default hidden behavior on the sphinx rendered scikit-learn.org. See: https://github.com/scikit-learn/scikit-learn/issues/21755 */display: inline-block !important;position: relative;}#sk-container-id-1 div.sk-text-repr-fallback {display: none;}</style><div id=\"sk-container-id-1\" class=\"sk-top-container\"><div class=\"sk-text-repr-fallback\"><pre>LinearRegression()</pre><b>In a Jupyter environment, please rerun this cell to show the HTML representation or trust the notebook. <br />On GitHub, the HTML representation is unable to render, please try loading this page with nbviewer.org.</b></div><div class=\"sk-container\" hidden><div class=\"sk-item\"><div class=\"sk-estimator sk-toggleable\"><input class=\"sk-toggleable__control sk-hidden--visually\" id=\"sk-estimator-id-1\" type=\"checkbox\" checked><label for=\"sk-estimator-id-1\" class=\"sk-toggleable__label sk-toggleable__label-arrow\">LinearRegression</label><div class=\"sk-toggleable__content\"><pre>LinearRegression()</pre></div></div></div></div></div>"
      ],
      "text/plain": [
       "LinearRegression()"
      ]
     },
     "execution_count": 32,
     "metadata": {},
     "output_type": "execute_result"
    }
   ],
   "source": [
    "# Fitting the regression object onto the training set.\n",
    "\n",
    "regression.fit(X_train, Y_train)"
   ]
  },
  {
   "cell_type": "code",
   "execution_count": 34,
   "id": "005bceea-da69-4ae4-910a-46e79380d9ee",
   "metadata": {},
   "outputs": [],
   "source": [
    "# Predict the values of Y by using X.\n",
    "\n",
    "Y_predicted = regression.predict(X_test)"
   ]
  },
  {
   "cell_type": "code",
   "execution_count": 35,
   "id": "0913e029-ddbe-4c73-bf73-a9bf55521470",
   "metadata": {},
   "outputs": [
    {
     "data": {
      "image/png": "[encoded data removed]",
      "text/plain": [
       "<Figure size 640x480 with 1 Axes>"
      ]
     },
     "metadata": {},
     "output_type": "display_data"
    }
   ],
   "source": [
    "# Creating a plot that shows the regression line from the model on the test set.\n",
    "\n",
    "plot_test = plt\n",
    "plot_test.scatter(X_test, Y_test, color='gray', s = 15)\n",
    "plot_test.plot(X_test, Y_predicted, color='red', linewidth =3)\n",
    "plot_test.title('Items Total vs Product Price (Test set)')\n",
    "plot_test.xlabel('Items Total')\n",
    "plot_test.ylabel('Product Price')\n",
    "plot_test.show()"
   ]
  },
  {
   "cell_type": "markdown",
   "id": "14a5aeda-4026-493a-9bec-a3faad17ef57",
   "metadata": {},
   "source": [
    "We can see that the trending line goes up and many dots are located around it especially in the area of price between 0 and 180. We may observe a positive relationship and good correlation in this area. However, the distance between dots and the line is getting larger after the price of 200. We need to check the accuracy of the model and afterwards make a final conclusion. "
   ]
  },
  {
   "cell_type": "code",
   "execution_count": 50,
   "id": "2adc34fe-80bb-46bb-86a9-56c8e54a1ed2",
   "metadata": {},
   "outputs": [],
   "source": [
    "# Creating objects for summary statistics\n",
    "mse = mean_squared_error(Y_test, Y_predicted)"
   ]
  },
  {
   "cell_type": "code",
   "execution_count": 48,
   "id": "61627375-cd23-47de-97d5-692c3486af98",
   "metadata": {},
   "outputs": [],
   "source": [
    "r2 = r2_score(Y_test, Y_predicted)"
   ]
  },
  {
   "cell_type": "code",
   "execution_count": 51,
   "id": "5d3c68bb-d543-49ad-961e-51451cea7380",
   "metadata": {},
   "outputs": [
    {
     "name": "stdout",
     "output_type": "stream",
     "text": [
      "Slope: [[0.94993442]]\n",
      "Mean squared error: 7030.386845584035\n",
      "R2 score: 0.649966406780966\n"
     ]
    }
   ],
   "source": [
    "# Printing the model summary statistics.\n",
    "print('Slope:', regression.coef_)\n",
    "print('Mean squared error:', mse)\n",
    "print('R2 score:', r2)"
   ]
  },
  {
   "cell_type": "code",
   "execution_count": 53,
   "id": "04d3019f-6785-4b6d-844f-e3ea35186d48",
   "metadata": {},
   "outputs": [
    {
     "data": {
      "text/plain": [
       "array([[277.53266296],\n",
       "       [ 12.99491502],\n",
       "       [144.55133818],\n",
       "       ...,\n",
       "       [ 59.05723305],\n",
       "       [168.33768971],\n",
       "       [ 61.90703631]])"
      ]
     },
     "execution_count": 53,
     "metadata": {},
     "output_type": "execute_result"
    }
   ],
   "source": [
    "Y_predicted"
   ]
  },
  {
   "cell_type": "code",
   "execution_count": 55,
   "id": "13e20e36-02c8-4d33-a9ea-346787c6cc07",
   "metadata": {},
   "outputs": [
    {
     "data": {
      "text/html": [
       "<div>\n",
       "<style scoped>\n",
       "    .dataframe tbody tr th:only-of-type {\n",
       "        vertical-align: middle;\n",
       "    }\n",
       "\n",
       "    .dataframe tbody tr th {\n",
       "        vertical-align: top;\n",
       "    }\n",
       "\n",
       "    .dataframe thead th {\n",
       "        text-align: right;\n",
       "    }\n",
       "</style>\n",
       "<table border=\"1\" class=\"dataframe\">\n",
       "  <thead>\n",
       "    <tr style=\"text-align: right;\">\n",
       "      <th></th>\n",
       "      <th>Actual</th>\n",
       "      <th>Predicted</th>\n",
       "    </tr>\n",
       "  </thead>\n",
       "  <tbody>\n",
       "    <tr>\n",
       "      <th>0</th>\n",
       "      <td>399.980011</td>\n",
       "      <td>277.532663</td>\n",
       "    </tr>\n",
       "    <tr>\n",
       "      <th>1</th>\n",
       "      <td>50.000000</td>\n",
       "      <td>12.994915</td>\n",
       "    </tr>\n",
       "    <tr>\n",
       "      <th>2</th>\n",
       "      <td>199.990005</td>\n",
       "      <td>144.551338</td>\n",
       "    </tr>\n",
       "    <tr>\n",
       "      <th>3</th>\n",
       "      <td>59.990002</td>\n",
       "      <td>142.822451</td>\n",
       "    </tr>\n",
       "    <tr>\n",
       "      <th>4</th>\n",
       "      <td>84.400002</td>\n",
       "      <td>41.720930</td>\n",
       "    </tr>\n",
       "    <tr>\n",
       "      <th>5</th>\n",
       "      <td>84.400002</td>\n",
       "      <td>50.536320</td>\n",
       "    </tr>\n",
       "    <tr>\n",
       "      <th>6</th>\n",
       "      <td>299.980011</td>\n",
       "      <td>221.486532</td>\n",
       "    </tr>\n",
       "    <tr>\n",
       "      <th>7</th>\n",
       "      <td>461.480011</td>\n",
       "      <td>398.801295</td>\n",
       "    </tr>\n",
       "    <tr>\n",
       "      <th>8</th>\n",
       "      <td>299.980011</td>\n",
       "      <td>244.284958</td>\n",
       "    </tr>\n",
       "    <tr>\n",
       "      <th>9</th>\n",
       "      <td>30.000000</td>\n",
       "      <td>24.869095</td>\n",
       "    </tr>\n",
       "    <tr>\n",
       "      <th>10</th>\n",
       "      <td>50.000000</td>\n",
       "      <td>199.182061</td>\n",
       "    </tr>\n",
       "    <tr>\n",
       "      <th>11</th>\n",
       "      <td>49.980000</td>\n",
       "      <td>67.578146</td>\n",
       "    </tr>\n",
       "    <tr>\n",
       "      <th>12</th>\n",
       "      <td>129.990005</td>\n",
       "      <td>82.235634</td>\n",
       "    </tr>\n",
       "    <tr>\n",
       "      <th>13</th>\n",
       "      <td>260.649994</td>\n",
       "      <td>208.795393</td>\n",
       "    </tr>\n",
       "    <tr>\n",
       "      <th>14</th>\n",
       "      <td>129.990005</td>\n",
       "      <td>76.061061</td>\n",
       "    </tr>\n",
       "    <tr>\n",
       "      <th>15</th>\n",
       "      <td>59.990002</td>\n",
       "      <td>137.692811</td>\n",
       "    </tr>\n",
       "    <tr>\n",
       "      <th>16</th>\n",
       "      <td>59.990002</td>\n",
       "      <td>115.473845</td>\n",
       "    </tr>\n",
       "    <tr>\n",
       "      <th>17</th>\n",
       "      <td>59.990002</td>\n",
       "      <td>16.310188</td>\n",
       "    </tr>\n",
       "    <tr>\n",
       "      <th>18</th>\n",
       "      <td>99.989998</td>\n",
       "      <td>326.910236</td>\n",
       "    </tr>\n",
       "    <tr>\n",
       "      <th>19</th>\n",
       "      <td>49.980000</td>\n",
       "      <td>93.216874</td>\n",
       "    </tr>\n",
       "    <tr>\n",
       "      <th>20</th>\n",
       "      <td>399.980011</td>\n",
       "      <td>277.532663</td>\n",
       "    </tr>\n",
       "    <tr>\n",
       "      <th>21</th>\n",
       "      <td>129.990005</td>\n",
       "      <td>85.940380</td>\n",
       "    </tr>\n",
       "    <tr>\n",
       "      <th>22</th>\n",
       "      <td>11.540000</td>\n",
       "      <td>-16.234568</td>\n",
       "    </tr>\n",
       "    <tr>\n",
       "      <th>23</th>\n",
       "      <td>49.980000</td>\n",
       "      <td>187.222391</td>\n",
       "    </tr>\n",
       "    <tr>\n",
       "      <th>24</th>\n",
       "      <td>50.000000</td>\n",
       "      <td>170.684029</td>\n",
       "    </tr>\n",
       "    <tr>\n",
       "      <th>25</th>\n",
       "      <td>50.000000</td>\n",
       "      <td>97.539078</td>\n",
       "    </tr>\n",
       "    <tr>\n",
       "      <th>26</th>\n",
       "      <td>260.649994</td>\n",
       "      <td>188.989269</td>\n",
       "    </tr>\n",
       "    <tr>\n",
       "      <th>27</th>\n",
       "      <td>129.990005</td>\n",
       "      <td>92.114954</td>\n",
       "    </tr>\n",
       "    <tr>\n",
       "      <th>28</th>\n",
       "      <td>299.980011</td>\n",
       "      <td>258.533975</td>\n",
       "    </tr>\n",
       "    <tr>\n",
       "      <th>29</th>\n",
       "      <td>39.750000</td>\n",
       "      <td>9.442159</td>\n",
       "    </tr>\n",
       "  </tbody>\n",
       "</table>\n",
       "</div>"
      ],
      "text/plain": [
       "        Actual   Predicted\n",
       "0   399.980011  277.532663\n",
       "1    50.000000   12.994915\n",
       "2   199.990005  144.551338\n",
       "3    59.990002  142.822451\n",
       "4    84.400002   41.720930\n",
       "5    84.400002   50.536320\n",
       "6   299.980011  221.486532\n",
       "7   461.480011  398.801295\n",
       "8   299.980011  244.284958\n",
       "9    30.000000   24.869095\n",
       "10   50.000000  199.182061\n",
       "11   49.980000   67.578146\n",
       "12  129.990005   82.235634\n",
       "13  260.649994  208.795393\n",
       "14  129.990005   76.061061\n",
       "15   59.990002  137.692811\n",
       "16   59.990002  115.473845\n",
       "17   59.990002   16.310188\n",
       "18   99.989998  326.910236\n",
       "19   49.980000   93.216874\n",
       "20  399.980011  277.532663\n",
       "21  129.990005   85.940380\n",
       "22   11.540000  -16.234568\n",
       "23   49.980000  187.222391\n",
       "24   50.000000  170.684029\n",
       "25   50.000000   97.539078\n",
       "26  260.649994  188.989269\n",
       "27  129.990005   92.114954\n",
       "28  299.980011  258.533975\n",
       "29   39.750000    9.442159"
      ]
     },
     "execution_count": 55,
     "metadata": {},
     "output_type": "execute_result"
    }
   ],
   "source": [
    "# Creating a dataframe comparing the actual and predicted values of y.\n",
    "data = pd.DataFrame({'Actual': Y_test.flatten(), 'Predicted': Y_predicted.flatten()})\n",
    "data.head(30)"
   ]
  },
  {
   "cell_type": "markdown",
   "id": "b669148a-1457-46ed-9b27-dd33c14cae24",
   "metadata": {},
   "source": [
    "#### COMPARING HOW THE REGRESSION FITS THE TRAINING SET"
   ]
  },
  {
   "cell_type": "code",
   "execution_count": 56,
   "id": "5c1250b0-4a83-4757-8932-99c3ae316c39",
   "metadata": {},
   "outputs": [],
   "source": [
    "# Predict \n",
    "Y_predicted_train = regression.predict(X_train)"
   ]
  },
  {
   "cell_type": "code",
   "execution_count": 58,
   "id": "ed876170-5b14-4c98-9600-2f6207ad47fe",
   "metadata": {},
   "outputs": [],
   "source": [
    "rmse = mean_squared_error(Y_train, Y_predicted_train)\n",
    "r2 = r2_score(Y_train, Y_predicted_train)"
   ]
  },
  {
   "cell_type": "code",
   "execution_count": 59,
   "id": "79f3d8ec-e094-4edb-a358-de52005f36da",
   "metadata": {},
   "outputs": [
    {
     "name": "stdout",
     "output_type": "stream",
     "text": [
      "Slope: [[0.94993442]]\n",
      "Mean squared error:  7102.278992490206\n",
      "R2 score:  0.666093226791428\n"
     ]
    }
   ],
   "source": [
    "print('Slope:' ,regression.coef_)\n",
    "print('Mean squared error: ', rmse)\n",
    "print('R2 score: ', r2)"
   ]
  },
  {
   "cell_type": "code",
   "execution_count": 60,
   "id": "05db1902-db8f-4f40-b76f-ea3283a1f839",
   "metadata": {},
   "outputs": [
    {
     "data": {
      "image/png": "[encoded data removed]",
      "text/plain": [
       "<Figure size 640x480 with 1 Axes>"
      ]
     },
     "metadata": {},
     "output_type": "display_data"
    }
   ],
   "source": [
    "# Visualizing the training set results.\n",
    "\n",
    "plot_test = plt\n",
    "plot_test.scatter(X_train, Y_train, color='green', s = 15)\n",
    "plot_test.plot(X_train, Y_predicted_train, color='red', linewidth =3)\n",
    "plot_test.title('Items Total vs Product Price (Train set)')\n",
    "plot_test.xlabel('Items Total')\n",
    "plot_test.ylabel('Product Price')\n",
    "plot_test.show()"
   ]
  },
  {
   "cell_type": "markdown",
   "id": "9e4f5fee-a12d-4df9-a2a7-23eb9cbb0bc5",
   "metadata": {},
   "source": [
    "#### EXPLANATIONS BY COMPARING TEST AND TRAIN SET"
   ]
  },
  {
   "cell_type": "markdown",
   "id": "9fa7ee97-e431-4745-a376-6fd6a017262b",
   "metadata": {},
   "source": [
    "The R2 score of approximately 0.65 indicates that the model explains around 65% of the variance in the test set. While this is not perfect, it suggests that the model has some predictive power. The Mean Squared Error (MSE) of 7030.39 indicates the average squared difference between the actual and predicted values, with higher values suggesting poorer fit. Additionally, the slope of approximately 0.95 suggests a positive linear relationship between \"Items Total\" and \"Product Price\" in the test set. It means that higher prices do not mean lower quantity sold. Assuming in overall, the model seems to perform reasonably well on the test set. It captures the association between sales prices and the total items sold, however it doesn't establish a causal relationship. There could be other factors influencing customer behavior that need to be further analysed. For example, qualitative research could help us to find these factors.\n",
    "\n",
    "It's also essential to consider the possibility of data bias. If the training and test sets are not representative of the overall population or if there are systematic differences between the two sets (e.g., different time periods, different regions), it could lead to biased model performance. To avoid this, it's crucial to ensure that the data used for training and testing are diverse and representative of the population we want to make prediction for. Additionally, examining the residuals and checking for patterns or trends in the residuals could provide insights for potential biases or model inadequacies."
   ]
  }
 ],
 "metadata": {
  "kernelspec": {
   "display_name": "Python 3 (ipykernel)",
   "language": "python",
   "name": "python3"
  },
  "language_info": {
   "codemirror_mode": {
    "name": "ipython",
    "version": 3
   },
   "file_extension": ".py",
   "mimetype": "text/x-python",
   "name": "python",
   "nbconvert_exporter": "python",
   "pygments_lexer": "ipython3",
   "version": "3.11.7"
  }
 },
 "nbformat": 4,
 "nbformat_minor": 5
}
